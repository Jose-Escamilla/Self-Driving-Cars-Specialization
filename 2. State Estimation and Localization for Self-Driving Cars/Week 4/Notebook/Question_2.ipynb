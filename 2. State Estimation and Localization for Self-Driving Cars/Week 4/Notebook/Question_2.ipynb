{
 "cells": [
  {
   "cell_type": "markdown",
   "metadata": {},
   "source": [
    "## Question 2\n",
    "2. A 3D LIDAR unit is scanning a surface that is approximately planar, returning range, elevation and azimuth measurements. In order to estimate the equation of the surface in parametric form (as a plane), we need to find a set of parameters that best fit the measurements. \n",
    "\n",
    "Implement the sph_to_cat and estimate_params functions, which transform LIDAR measurements into a Cartesian coordinate frame and estimate the plane parameters, respectively. You may assume that measurement noise is negligible. The code comments provide more information on the format of the arguments to each function."
   ]
  },
  {
   "cell_type": "code",
   "execution_count": 1,
   "metadata": {},
   "outputs": [
    {
     "name": "stdout",
     "output_type": "stream",
     "text": [
      "[-0.95205145 -0.61727287 -3.8356971 ]\n",
      "(20, 1)\n",
      "(20, 1)\n",
      "(20, 1)\n",
      "(20, 1)\n",
      "(20, 3)\n",
      "[ 0.66352988 -0.13301066 -0.18872233]\n"
     ]
    }
   ],
   "source": [
    "from numpy import *\n",
    "\n",
    "def sph_to_cart(epsilon, alpha, r):\n",
    "  \"\"\"\n",
    "  Transform sensor readings to Cartesian coordinates in the sensor\n",
    "  frame. The values of epsilon and alpha are given in radians, while \n",
    "  r is in metres. Epsilon is the elevation angle and alpha is the\n",
    "  azimuth angle (i.e., in the x,y plane).\n",
    "  \"\"\"\n",
    "  p = zeros(3)  # Position vector \n",
    "  \n",
    "  # Your code here\n",
    "  p[0] = r*cos(alpha)*cos(epsilon)\n",
    "  p[1] = r*sin(alpha)*cos(epsilon)\n",
    "  p[2] = r*sin(epsilon)\n",
    "     \n",
    "\n",
    "  return p\n",
    "  \n",
    "def estimate_params(P):\n",
    "  \"\"\"\n",
    "  Estimate parameters from sensor readings in the Cartesian frame.\n",
    "  Each row in the P matrix contains a single 3D point measurement;\n",
    "  the matrix P has size n x 3 (for n points). The format is:\n",
    "  \n",
    "  P = [[x1, y1, z1],\n",
    "       [x2, x2, z2], ...]\n",
    "       \n",
    "  where all coordinate values are in metres. Three parameters are\n",
    "  required to fit the plane, a, b, and c, according to the equation\n",
    "  \n",
    "  z = a + bx + cy\n",
    "  \n",
    "  The function should retrn the parameters as a NumPy array of size\n",
    "  three, in the order [a, b, c].\n",
    "  \"\"\"\n",
    "  param_est = zeros(3)\n",
    "  \n",
    "  # Your code here\n",
    "  one_mat = mat(ones(len(P))).T\n",
    "  print(one_mat.shape)\n",
    "  x = mat(P[:, 0]).T\n",
    "  print(shape(x))\n",
    "  y = mat(P[:, 1]).T\n",
    "  print(shape(y))\n",
    "  z = mat(P[:, 2]).T\n",
    "  print(shape(z))\n",
    "\n",
    "  B = z\n",
    "  A = hstack((one_mat, x, y))\n",
    "  print(shape (A))\n",
    "  params = linalg.inv(A.T.dot(A)).dot(A.T).dot(B)\n",
    "\n",
    "  param_est[0] = params[0,0]\n",
    "  param_est[1] = params[1,0]\n",
    "  param_est[2] = params[2,0]\n",
    "\n",
    "  return param_est\n",
    "\n",
    "print(sph_to_cart(5, 10, 4))\n",
    "P = random.rand(20,3)\n",
    "q = estimate_params(P)\n",
    "print(q)\n",
    "\n",
    "  "
   ]
  }
 ],
 "metadata": {
  "kernelspec": {
   "display_name": "Python 3",
   "language": "python",
   "name": "python3"
  },
  "language_info": {
   "codemirror_mode": {
    "name": "ipython",
    "version": 3
   },
   "file_extension": ".py",
   "mimetype": "text/x-python",
   "name": "python",
   "nbconvert_exporter": "python",
   "pygments_lexer": "ipython3",
   "version": "3.7.6"
  }
 },
 "nbformat": 4,
 "nbformat_minor": 4
}
